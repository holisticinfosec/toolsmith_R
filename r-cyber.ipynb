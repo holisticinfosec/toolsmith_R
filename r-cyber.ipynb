{
 "cells": [
  {
   "cell_type": "markdown",
   "metadata": {},
   "source": [
    "# r-cyber"
   ]
  },
  {
   "cell_type": "markdown",
   "metadata": {},
   "source": [
    "## Installation"
   ]
  },
  {
   "cell_type": "code",
   "execution_count": null,
   "metadata": {},
   "outputs": [],
   "source": [
    "devtools::install_github(c(\"hrbrmstr/dnsflare\",\"hrbrmstr/urlscan\",\"hrbrmstr/threatcrowd\"))"
   ]
  },
  {
   "cell_type": "markdown",
   "metadata": {},
   "source": [
    "## dnsflare - Query CloudFlare DNS Servers over HTTPS"
   ]
  },
  {
   "cell_type": "code",
   "execution_count": null,
   "metadata": {
    "scrolled": true
   },
   "outputs": [],
   "source": [
    "library(dnsflare)\n",
    "query(\"anbuselvanrocky.in\",1)\n",
    "query(\"192.154.230.44\",\"PTR\")"
   ]
  },
  {
   "cell_type": "markdown",
   "metadata": {},
   "source": [
    "## urlscan - Analyze Websites and Resources They Request"
   ]
  },
  {
   "cell_type": "code",
   "execution_count": null,
   "metadata": {
    "scrolled": true
   },
   "outputs": [],
   "source": [
    "library(urlscan)\n",
    "library(tidyverse)\n",
    "\n",
    "x <- urlscan_search(\"domain:anbuselvanrocky.in\")\n",
    "\n",
    "as_tibble(x$results$task) %>% \n",
    "  bind_cols(as_tibble(x$results$page)) %>% \n",
    "  mutate(\n",
    "    time = anytime::anytime(time),\n",
    "    id = x$results$'_id'\n",
    "  ) %>%\n",
    "  arrange(desc(time)) %>% \n",
    "  select(url, country, server, ip, id) -> xdf\n",
    "\n",
    "ures <- urlscan_result(xdf$id[2], include_dom = TRUE, include_shot = TRUE)\n",
    "\n",
    "ures"
   ]
  },
  {
   "cell_type": "markdown",
   "metadata": {},
   "source": [
    "## threatcrowd - R package to work with the ThreatCrowd API"
   ]
  },
  {
   "cell_type": "code",
   "execution_count": null,
   "metadata": {
    "scrolled": true
   },
   "outputs": [],
   "source": [
    "library(threatcrowd)\n",
    "search_ips(\"103.72.163.150\")"
   ]
  }
 ],
 "metadata": {
  "kernelspec": {
   "display_name": "R",
   "language": "R",
   "name": "ir"
  },
  "language_info": {
   "codemirror_mode": "r",
   "file_extension": ".r",
   "mimetype": "text/x-r-source",
   "name": "R",
   "pygments_lexer": "r",
   "version": "3.5.2"
  }
 },
 "nbformat": 4,
 "nbformat_minor": 2
}
